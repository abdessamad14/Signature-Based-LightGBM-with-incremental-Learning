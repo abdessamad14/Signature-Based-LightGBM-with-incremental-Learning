{
 "cells": [
  {
   "cell_type": "code",
   "execution_count": null,
   "id": "2cef875d",
   "metadata": {},
   "outputs": [],
   "source": [
    "# Pandas for table processing\n",
    "import pandas as pd\n",
    "import re\n",
    "import lightgbm as lgb\n",
    "import numpy as np\n",
    "import matplotlib.pyplot as plt\n",
    "import seaborn as sns\n",
    "%matplotlib inline\n",
    "\n",
    "# Packages for auxilary data science tasks: dividing the dataset to train and test and metrics summary generation\n",
    "from sklearn.preprocessing import LabelEncoder\n",
    "from sklearn.model_selection import train_test_split\n",
    "from sklearn.metrics import classification_report, precision_score, accuracy_score"
   ]
  },
  {
   "cell_type": "code",
   "execution_count": null,
   "id": "fe059f71",
   "metadata": {},
   "outputs": [],
   "source": [
    "data = pd.read_csv(\"Glass_Type.csv\")"
   ]
  },
  {
   "cell_type": "code",
   "execution_count": null,
   "id": "b81c94f4",
   "metadata": {},
   "outputs": [],
   "source": [
    "data"
   ]
  },
  {
   "cell_type": "code",
   "execution_count": null,
   "id": "8e52c8ad",
   "metadata": {},
   "outputs": [],
   "source": [
    "# Due to LightGBMError: Do not support special JSON characters in feature name. \n",
    "# Solution found in: https://stackoverflow.com/questions/60582050/lightgbmerror-do-not-support-special-json-characters-in-feature-name-the-same\n",
    "data = data.rename(columns = lambda x:re.sub('[^A-Za-z0-9_]+', '', x))"
   ]
  },
  {
   "cell_type": "code",
   "execution_count": null,
   "id": "5f973334",
   "metadata": {},
   "outputs": [],
   "source": [
    "data.Type.value_counts()"
   ]
  },
  {
   "cell_type": "code",
   "execution_count": null,
   "id": "cff01af3",
   "metadata": {},
   "outputs": [],
   "source": [
    "# Labels encoding from categories to Integers\n",
    "data['Type'] = LabelEncoder().fit_transform(data['Type'])\n",
    "# 0 -> 'build wind float'\n",
    "# 1 -> 'build wind non-float'\n",
    "# 2 -> 'vehic wind float'\n",
    "# 3 -> containers\n",
    "# 4 -> headlamps\n",
    "# 5 -> tableware"
   ]
  },
  {
   "cell_type": "code",
   "execution_count": null,
   "id": "a5e7757b",
   "metadata": {},
   "outputs": [],
   "source": [
    "def binarize(x):\n",
    "    if x==5:\n",
    "        value=0\n",
    "    else:\n",
    "        value=1\n",
    "    return value\n",
    "#data['Type'] = data['Type'].map(binarize)"
   ]
  },
  {
   "cell_type": "code",
   "execution_count": null,
   "id": "2ea0ac7a",
   "metadata": {},
   "outputs": [],
   "source": [
    "data"
   ]
  },
  {
   "cell_type": "code",
   "execution_count": null,
   "id": "34ddd3b9",
   "metadata": {},
   "outputs": [],
   "source": [
    "# get all data of the omitted class \"tableware\"\n",
    "omitted_class = data.loc[data['Type'] == 5]"
   ]
  },
  {
   "cell_type": "code",
   "execution_count": null,
   "id": "41f34167",
   "metadata": {},
   "outputs": [],
   "source": [
    "data_without_omitted_class = data.loc[data['Type'] != 5]"
   ]
  },
  {
   "cell_type": "code",
   "execution_count": null,
   "id": "3af9edaa",
   "metadata": {},
   "outputs": [],
   "source": [
    "data_without_omitted_class"
   ]
  },
  {
   "cell_type": "code",
   "execution_count": null,
   "id": "8d183e34",
   "metadata": {},
   "outputs": [],
   "source": [
    "data_without_omitted_class"
   ]
  },
  {
   "cell_type": "code",
   "execution_count": null,
   "id": "596fef08",
   "metadata": {},
   "outputs": [],
   "source": [
    "X_train, X_test, Y_train, Y_test = train_test_split(data_without_omitted_class.drop(columns=[\"Type\"]), data_without_omitted_class.Type,\n",
    "                                                    train_size=0.95, stratify=data_without_omitted_class.Type, random_state=42)"
   ]
  },
  {
   "cell_type": "code",
   "execution_count": null,
   "id": "53bf42f4",
   "metadata": {},
   "outputs": [],
   "source": [
    "#Converting the dataset in proper LGB format\n",
    "d_train=lgb.Dataset(X_train, label=Y_train)\n",
    "#setting up the parameters\n",
    "params={}\n",
    "params['learning_rate']=0.03\n",
    "params['boosting_type']='gbdt' #GradientBoostingDecisionTree\n",
    "params['objective']='multiclass' #Multi-class target feature\n",
    "params['metric']='multi_logloss' #metric for multi-class\n",
    "params['max_depth']=10\n",
    "params['num_class']=6 #no.of unique values in the target class not inclusive of the end value\n",
    "#training the model\n",
    "clf=lgb.train(params,d_train,100)  #training the model on 100 epocs\n",
    "#prediction on the test dataset\n",
    "y_pred=clf.predict(X_test)"
   ]
  },
  {
   "cell_type": "code",
   "execution_count": null,
   "id": "dadd3519",
   "metadata": {},
   "outputs": [],
   "source": [
    "#argmax() method \n",
    "y_pred = [np.argmax(line) for line in y_pred]"
   ]
  },
  {
   "cell_type": "code",
   "execution_count": null,
   "id": "70aeb4bd",
   "metadata": {},
   "outputs": [],
   "source": [
    "y_pred"
   ]
  },
  {
   "cell_type": "code",
   "execution_count": null,
   "id": "05cd9602",
   "metadata": {},
   "outputs": [],
   "source": [
    "#using precision score for error metrics\n",
    "precision_score(y_pred,Y_test,average=None).mean()"
   ]
  },
  {
   "cell_type": "code",
   "execution_count": null,
   "id": "b9904c4c",
   "metadata": {},
   "outputs": [],
   "source": [
    "print(classification_report(Y_test, y_pred))"
   ]
  },
  {
   "cell_type": "code",
   "execution_count": null,
   "id": "f5107488",
   "metadata": {},
   "outputs": [],
   "source": [
    "classification_result = clf.predict(X_test)"
   ]
  },
  {
   "cell_type": "code",
   "execution_count": null,
   "id": "fc46113f",
   "metadata": {},
   "outputs": [],
   "source": [
    "# Get the max value from each array from numpy matrix\n",
    "# axis=1 to find max from each row\n",
    "# Calculate the confidence scores SC of the winning classes, in case when \n",
    "# the trained classifier was  tested on dataset without omitted class\n",
    "winningClassCs = np.amax(classification_result, axis=1)\n",
    "print(winningClassCs)\n",
    "print(len(winningClassCs))"
   ]
  },
  {
   "cell_type": "code",
   "execution_count": null,
   "id": "baec2850",
   "metadata": {},
   "outputs": [],
   "source": [
    "accuracy_score(Y_test, y_pred)"
   ]
  },
  {
   "cell_type": "code",
   "execution_count": null,
   "id": "eebca172",
   "metadata": {},
   "outputs": [],
   "source": [
    "# Test on omitted class\n",
    "X_test_omitted = omitted_class.iloc[:,:-1] # all colmns without the last column\n",
    "Y_test_omitted = omitted_class.iloc[:,-1:] # last colmn\n",
    "y_pred_omitted=clf.predict(X_test_omitted)"
   ]
  },
  {
   "cell_type": "code",
   "execution_count": null,
   "id": "fc65dfa3",
   "metadata": {},
   "outputs": [],
   "source": [
    "#argmax() method \n",
    "y_pred_omitted = [np.argmax(line) for line in y_pred_omitted]"
   ]
  },
  {
   "cell_type": "code",
   "execution_count": null,
   "id": "6da27be5",
   "metadata": {},
   "outputs": [],
   "source": [
    "print(classification_report(Y_test_omitted, y_pred_omitted))"
   ]
  },
  {
   "cell_type": "code",
   "execution_count": null,
   "id": "ca427c29",
   "metadata": {},
   "outputs": [],
   "source": [
    "classification_result_omitted = clf.predict(X_test_omitted)"
   ]
  },
  {
   "cell_type": "code",
   "execution_count": null,
   "id": "044b8ba1",
   "metadata": {},
   "outputs": [],
   "source": [
    "# Get the max value from each array from numpy matrix\n",
    "# axis=1 to find max from each row\n",
    "# Calculate the confidence scores SC of the winning classes, in case when \n",
    "# the trained classifier was tested on omitted class dataset\n",
    "winningClassCsOmitted = np.amax(classification_result_omitted, axis=1)\n"
   ]
  },
  {
   "cell_type": "code",
   "execution_count": null,
   "id": "cb987e7a",
   "metadata": {},
   "outputs": [],
   "source": [
    "# set a grey background (use sns.set_theme() if seaborn version 0.11.0 or above) \n",
    "sns.set(style=\"darkgrid\")\n",
    "df = sns.load_dataset(\"iris\")\n",
    "plt.figure(figsize = (15,8))\n",
    "\n",
    "sns.histplot(data=winningClassCs, color=\"skyblue\", label=\"non-omitted\", kde=True)\n",
    "\n",
    "plt.legend() \n",
    "plt.show()"
   ]
  },
  {
   "cell_type": "code",
   "execution_count": null,
   "id": "f4ae9b9a",
   "metadata": {},
   "outputs": [],
   "source": [
    "# set a grey background (use sns.set_theme() if seaborn version 0.11.0 or above) \n",
    "sns.set(style=\"darkgrid\")\n",
    "df = sns.load_dataset(\"iris\")\n",
    "plt.figure(figsize = (15,8))\n",
    "\n",
    "sns.histplot(data=winningClassCsOmitted, color=\"red\", label=\"omitted\", kde=True)\n",
    "\n",
    "plt.legend() \n",
    "plt.show()"
   ]
  },
  {
   "cell_type": "code",
   "execution_count": null,
   "id": "8b16433a",
   "metadata": {},
   "outputs": [],
   "source": [
    "# set a grey background (use sns.set_theme() if seaborn version 0.11.0 or above) \n",
    "sns.set(style=\"darkgrid\")\n",
    "df = sns.load_dataset(\"iris\")\n",
    "plt.figure(figsize = (15,8))\n",
    "\n",
    "sns.histplot(data=winningClassCs, color=\"skyblue\", label=\"non-omitted\", kde=True)\n",
    "sns.histplot(data=winningClassCsOmitted, color=\"red\", label=\"omitted\", kde=True)\n",
    "\n",
    "\n",
    "plt.legend() \n",
    "plt.show()"
   ]
  },
  {
   "cell_type": "code",
   "execution_count": null,
   "id": "5e261eb9",
   "metadata": {},
   "outputs": [],
   "source": [
    "import numpy as np\n",
    "import scipy.stats\n",
    "\n",
    "\n",
    "def mean_confidence_interval(data, confidence=0.95):\n",
    "    a = 1.0 * np.array(data)\n",
    "    n = len(a)\n",
    "    m, se = np.mean(a), scipy.stats.sem(a)\n",
    "    h = se * scipy.stats.t.ppf((1 + confidence) / 2., n-1)\n",
    "    return m, m-h, m+h\n"
   ]
  },
  {
   "cell_type": "code",
   "execution_count": null,
   "id": "6c6ff11f",
   "metadata": {},
   "outputs": [],
   "source": [
    "mean_confidence_interval(winningClassCs)"
   ]
  },
  {
   "cell_type": "markdown",
   "id": "8becbfe7",
   "metadata": {},
   "source": [
    "#  Drift simulation"
   ]
  },
  {
   "cell_type": "code",
   "execution_count": null,
   "id": "aa23a24e",
   "metadata": {},
   "outputs": [],
   "source": [
    "len(winningClassCs[:9200]), len(winningClassCsOmitted)"
   ]
  },
  {
   "cell_type": "code",
   "execution_count": null,
   "id": "17ee7b60",
   "metadata": {},
   "outputs": [],
   "source": [
    "# Split the winning scores of non omitted data into batches of length 20\n",
    "n=20\n",
    "#print(winningClassCs[:9200].reshape(460,20))\n",
    "winningClassCsInBatches = winningClassCs[:9200].reshape(460,20)\n",
    "#winningClassCsInBatches=np.array([winningClassCs[i:i + n] for i in range(0, len(winningClassCs), n)])\n",
    "#print(winningClassCsInBatches)\n",
    "#print(winningClassCsOmitted)"
   ]
  },
  {
   "cell_type": "code",
   "execution_count": null,
   "id": "7bc0614f",
   "metadata": {},
   "outputs": [],
   "source": [
    "def sudden_quarter():\n",
    "    #Lists of before and after the changepoint\n",
    "    befor_cp = winningClassCsInBatches[:230]\n",
    "    after_cp = winningClassCsInBatches[230:]\n",
    "    omittedToBeStacked = winningClassCsOmitted[:5*len(after_cp)].reshape(len(after_cp),5)\n",
    "    print(befor_cp.shape)\n",
    "    x = np.concatenate((after_cp[:,:15],omittedToBeStacked),axis=1)\n",
    "    print(x.shape)\n",
    "    x = np.concatenate([befor_cp,x])\n",
    "    return x\n",
    "print(sudden_quarter())"
   ]
  },
  {
   "cell_type": "code",
   "execution_count": null,
   "id": "3b604a2b",
   "metadata": {},
   "outputs": [],
   "source": [
    "# 461 is the length of clean batches\n",
    "# d = 230 the batch of the changepoint\n",
    "# d =< 230 no drift \n",
    "# d > drift with proportion p\n",
    "\n",
    "'''\n",
    "sudden_quarter = for i in winningClassCsInBatches[:230]\n",
    "sudden_half = \n",
    "sudden_full = \n",
    "'''"
   ]
  },
  {
   "cell_type": "code",
   "execution_count": null,
   "id": "3fbae3dd",
   "metadata": {},
   "outputs": [],
   "source": [
    "import rpy2\n",
    "print(rpy2.__version__)"
   ]
  },
  {
   "cell_type": "code",
   "execution_count": null,
   "id": "8e9924b0",
   "metadata": {},
   "outputs": [],
   "source": [
    "from rpy2.robjects.packages import importr\n",
    "# import R's \"base\" package\n",
    "base = importr('base')\n",
    "\n",
    "# import R's \"utils\" package\n",
    "utils = importr('utils')"
   ]
  },
  {
   "cell_type": "code",
   "execution_count": null,
   "id": "447c9a3a",
   "metadata": {},
   "outputs": [],
   "source": [
    "# import rpy2's package module\n",
    "import rpy2.robjects.packages as rpackages\n",
    "\n",
    "# import R's utility package\n",
    "utils = rpackages.importr('utils')\n",
    "\n",
    "# select a mirror for R packages\n",
    "utils.chooseCRANmirror(ind=1) # select the first mirror in the list"
   ]
  },
  {
   "cell_type": "code",
   "execution_count": null,
   "id": "7f5d6347",
   "metadata": {},
   "outputs": [],
   "source": [
    "# R package names\n",
    "packnames = ('cpm')\n",
    "\n",
    "# R vector of strings\n",
    "from rpy2.robjects.vectors import StrVector\n",
    "\n",
    "# Selectively install what needs to be install.\n",
    "# We are fancy, just because we can.\n",
    "names_to_install = [x for x in packnames if not rpackages.isinstalled(x)]\n",
    "if len(names_to_install) > 0:\n",
    "    utils.install_packages(StrVector(names_to_install))"
   ]
  },
  {
   "cell_type": "code",
   "execution_count": null,
   "id": "c262e961",
   "metadata": {},
   "outputs": [],
   "source": [
    "cpm = rpackages.importr(\"cpm\")"
   ]
  },
  {
   "cell_type": "code",
   "execution_count": null,
   "id": "92bf6365",
   "metadata": {},
   "outputs": [],
   "source": [
    "from rpy2.robjects import FloatVector\n",
    "ctl = FloatVector([4.17,5.58,5.18,6.11,4.50,4.61,5.17,4.53,5.33,5.14])"
   ]
  },
  {
   "cell_type": "code",
   "execution_count": null,
   "id": "1d97a7e8",
   "metadata": {},
   "outputs": [],
   "source": [
    "a = cpm.detectChangePoint(ctl,\"Student\",ARL0=500,startup=20)"
   ]
  },
  {
   "cell_type": "code",
   "execution_count": null,
   "id": "7595f04a",
   "metadata": {},
   "outputs": [],
   "source": [
    "dataset = pd.DataFrame(np.asarray(a))\n",
    "dataset"
   ]
  },
  {
   "cell_type": "code",
   "execution_count": null,
   "id": "79ab02d6",
   "metadata": {},
   "outputs": [],
   "source": [
    "x = sudden_quarter()"
   ]
  },
  {
   "cell_type": "code",
   "execution_count": null,
   "id": "2a18007a",
   "metadata": {},
   "outputs": [],
   "source": [
    "x.shape"
   ]
  },
  {
   "cell_type": "code",
   "execution_count": null,
   "id": "f3f919ba",
   "metadata": {},
   "outputs": [],
   "source": [
    "x.flatten().shape"
   ]
  },
  {
   "cell_type": "code",
   "execution_count": null,
   "id": "e7510fd2",
   "metadata": {},
   "outputs": [],
   "source": []
  }
 ],
 "metadata": {
  "kernelspec": {
   "display_name": "Python 3 (ipykernel)",
   "language": "python",
   "name": "python3"
  },
  "language_info": {
   "codemirror_mode": {
    "name": "ipython",
    "version": 3
   },
   "file_extension": ".py",
   "mimetype": "text/x-python",
   "name": "python",
   "nbconvert_exporter": "python",
   "pygments_lexer": "ipython3",
   "version": "3.7.0"
  }
 },
 "nbformat": 4,
 "nbformat_minor": 5
}
