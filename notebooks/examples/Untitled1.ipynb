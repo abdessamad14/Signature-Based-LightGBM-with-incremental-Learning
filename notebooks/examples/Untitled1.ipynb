{
 "cells": [
  {
   "cell_type": "code",
   "execution_count": 1,
   "id": "9bfcfb82",
   "metadata": {},
   "outputs": [
    {
     "name": "stdout",
     "output_type": "stream",
     "text": [
      "<function RollingStatistic.transform at 0x000001A0835800D0> \n",
      "  1032.32 ms\n",
      "<function RollingStatistic.transform at 0x000001A0835800D0> \n",
      "  2602.70 ms\n",
      "<function RollingStatistic.transform at 0x000001A0835800D0> \n",
      "  356.37 ms\n",
      "<function RollingStatistic.transform at 0x000001A0835800D0> \n",
      "  362.25 ms\n",
      "<function RollingSignature.transform at 0x000001A0835B4488> \n",
      "  874.43 ms\n",
      "<function RollingSignature.transform at 0x000001A0835B4488> \n",
      "  936.69 ms\n",
      "<function RollingSignature.transform at 0x000001A0835B4488> \n",
      "  1080.09 ms\n",
      "<function RollingSignature.transform at 0x000001A0835B4488> \n",
      "  829.22 ms\n",
      "<function RollingSignature.transform at 0x000001A0835B4488> \n",
      "  888.20 ms\n",
      "cv:  [[array([     0,      1,      2, ..., 242158, 242159, 242160], dtype=int64), array([   548,    549,    550, ..., 241934, 241935, 241936], dtype=int64)], [array([     0,      1,      2, ..., 242158, 242159, 242160], dtype=int64), array([   164,    165,    166, ..., 242133, 242134, 242135], dtype=int64)], [array([     0,      1,      2, ..., 242133, 242134, 242135], dtype=int64), array([    48,     49,     50, ..., 242158, 242159, 242160], dtype=int64)], [array([    48,     49,     50, ..., 242158, 242159, 242160], dtype=int64), array([     0,      1,      2, ..., 242112, 242113, 242114], dtype=int64)], [array([     0,      1,      2, ..., 242158, 242159, 242160], dtype=int64), array([    93,     94,     95, ..., 242001, 242002, 242003], dtype=int64)]]\n",
      "cv_id:  [(array([   0,    1,    2, ..., 6270, 6271, 6272]), array([  13,   15,   19, ..., 6252, 6264, 6265])), (array([   0,    1,    2, ..., 6268, 6270, 6272]), array([   4,    6,   11, ..., 6266, 6269, 6271])), (array([   0,    2,    3, ..., 6269, 6270, 6271]), array([   1,    7,    8, ..., 6262, 6268, 6272])), (array([   1,    2,    3, ..., 6269, 6271, 6272]), array([   0,   42,   48, ..., 6258, 6259, 6270])), (array([   0,    1,    4, ..., 6270, 6271, 6272]), array([   2,    3,    5, ..., 6242, 6256, 6267]))]\n",
      "Training model...\n",
      "Thresholding...\n",
      "Average: 0.285\n"
     ]
    }
   ],
   "source": [
    "import sys; sys.path.insert(0, '../../')\n",
    "from definitions import *\n",
    "import numpy as np\n",
    "from sklearn.model_selection import cross_val_predict\n",
    "from lightgbm import LGBMRegressor\n",
    "import torch\n",
    "from src.data.dataset import TimeSeriesDataset\n",
    "from src.data import dicts\n",
    "from src.data.functions import torch_ffill\n",
    "from src.features.derived_features import shock_index, partial_sofa, bun_cr\n",
    "from src.features.rolling import RollingStatistic\n",
    "from src.features.signatures.compute import RollingSignature\n",
    "from src.model.model_selection import stratified_kfold_cv\n",
    "from src.model.optimizer import CVThresholdOptimizer\n",
    "\n",
    "# Load the dataset\n",
    "dataset = TimeSeriesDataset().load(DATA_DIR + '/raw/data.tsd')\n",
    "\n",
    "# Load the training labels\n",
    "labels = load_pickle(DATA_DIR + '/processed/labels/utility_scores.pickle')\n",
    "\n",
    "# First get counts of the laboratory values\n",
    "count_variables = dicts.feature_types['laboratory'] + ['Temp']\n",
    "counts = RollingStatistic(statistic='count', window_length=8).transform(dataset[count_variables])\n",
    "dataset.add_features(counts)\n",
    "\n",
    "# Apply a forward fill\n",
    "dataset.data = torch_ffill(dataset.data)\n",
    "\n",
    "# Add on some additional features\n",
    "dataset['ShockIndex'] = shock_index(dataset)\n",
    "dataset['PartialSOFA'] = partial_sofa(dataset)\n",
    "dataset['BUN/CR'] = bun_cr(dataset)\n",
    "\n",
    "# Now moments\n",
    "changing_vars = dicts.feature_types['vitals']\n",
    "dataset.add_features(RollingStatistic(statistic='moments', window_length=7).transform(dataset[changing_vars]))\n",
    "\n",
    "# # Now generate some rolling window features\n",
    "max_vals = RollingStatistic(statistic='max', window_length=6).transform(dataset[dicts.feature_types['vitals']])\n",
    "min_vals = RollingStatistic(statistic='min', window_length=6).transform(dataset[dicts.feature_types['vitals']])\n",
    "dataset.add_features(torch.cat((max_vals, min_vals), 2))\n",
    "\n",
    "# Now some rolling signatures\n",
    "roller = RollingSignature(window=7, depth=3, aug_list=['leadlag'], logsig=True)\n",
    "for vbl in ['BUN/CR', 'PartialSOFA', 'MAP', 'HR', 'SBP']:\n",
    "    signatures = roller.transform(dataset[vbl])\n",
    "    dataset.add_features(signatures)\n",
    "\n",
    "# Extract machine learning data\n",
    "X = dataset.to_ml()\n",
    "assert len(X) == len(labels)    # Sanity check\n",
    "\n",
    "# Setup cv\n",
    "cv, cv_id = stratified_kfold_cv(dataset, labels, n_splits=5, seed=5)\n",
    "#cv = load_pickle(MODELS_DIR + '/cross_validation/cv_folds.pkl')\n",
    "print(\"cv: \", cv)\n",
    "print(\"cv_id: \", cv_id)\n",
    "\n",
    "# Load in the lgbm gridsearch\n",
    "#lgbm_params = load_pickle(MODELS_DIR + '/official/lgb_fast_params.pkl')\n",
    "\n",
    "# Regressor\n",
    "print('Training model...')\n",
    "#clf = LGBMRegressor().set_params(**lgbm_params)\n",
    "clf = LGBMRegressor()\n",
    "predictions = cross_val_predict(clf, X, labels, cv=cv, n_jobs=-1)\n",
    "\n",
    "# Evaluation\n",
    "print('Thresholding...')\n",
    "scores = CVThresholdOptimizer(labels, predictions).optimize(cv, parallel=True)\n",
    "\n",
    "print('Average: {:.3f}'.format(np.mean(scores)))"
   ]
  },
  {
   "cell_type": "code",
   "execution_count": 21,
   "id": "8526f43a",
   "metadata": {},
   "outputs": [
    {
     "name": "stdout",
     "output_type": "stream",
     "text": [
      "CV R2-Score: -0.10996156534060608\n"
     ]
    }
   ],
   "source": [
    "from sklearn.metrics import r2_score\n",
    "\n",
    "predictions = torch.from_numpy(predictions)\n",
    "y_diff = np.clip(100 * ( (predictions - labels) / labels), -50, 50)\n",
    "\n",
    "R2 = r2_score(labels, predictions)\n",
    "\n",
    "print(\"CV R2-Score: \" + str(R2))"
   ]
  },
  {
   "cell_type": "code",
   "execution_count": 22,
   "id": "f4a469a0",
   "metadata": {},
   "outputs": [
    {
     "name": "stdout",
     "output_type": "stream",
     "text": [
      "Training...\n"
     ]
    },
    {
     "data": {
      "text/plain": [
       "LGBMRegressor(boosting_type='gbdt', class_weight=None, colsample_bytree=1.0,\n",
       "              importance_type='split', learning_rate=0.1, max_depth=-1,\n",
       "              min_child_samples=20, min_child_weight=0.001, min_split_gain=0.0,\n",
       "              n_estimators=100, n_jobs=-1, num_leaves=31, objective=None,\n",
       "              random_state=None, reg_alpha=0.0, reg_lambda=0.0, silent='warn',\n",
       "              subsample=1.0, subsample_for_bin=200000, subsample_freq=0)"
      ]
     },
     "execution_count": 22,
     "metadata": {},
     "output_type": "execute_result"
    }
   ],
   "source": [
    "print(\"Training...\")\n",
    "clf.fit(X,labels)"
   ]
  },
  {
   "cell_type": "code",
   "execution_count": 23,
   "id": "b0436a8e",
   "metadata": {},
   "outputs": [
    {
     "name": "stdout",
     "output_type": "stream",
     "text": [
      "Thresholding...\n",
      "Average: 0.284\n"
     ]
    }
   ],
   "source": [
    "predictions = cross_val_predict(clf, X, labels, cv=cv, n_jobs=-1)\n",
    "\n",
    "# Evaluation\n",
    "print('Thresholding...')\n",
    "scores = CVThresholdOptimizer(labels, predictions).optimize(cv, parallel=True)\n",
    "\n",
    "print('Average: {:.3f}'.format(np.mean(scores)))"
   ]
  },
  {
   "cell_type": "code",
   "execution_count": 24,
   "id": "d3c4a57f",
   "metadata": {},
   "outputs": [
    {
     "data": {
      "text/plain": [
       "(tensor([-0.0500, -0.0500, -0.0500,  ..., -0.0500, -0.0500, -0.0500]),\n",
       " array([-0.03708221, -0.03708221, -0.03708221, ..., -0.04973639,\n",
       "        -0.04874463, -0.04874463]))"
      ]
     },
     "execution_count": 24,
     "metadata": {},
     "output_type": "execute_result"
    }
   ],
   "source": [
    "labels, predictions"
   ]
  },
  {
   "cell_type": "code",
   "execution_count": 25,
   "id": "c10ef26d",
   "metadata": {},
   "outputs": [
    {
     "name": "stdout",
     "output_type": "stream",
     "text": [
      "CV R2-Score: -0.10996156534060608\n"
     ]
    }
   ],
   "source": [
    "from sklearn.metrics import r2_score,mean_squared_error\n",
    "\n",
    "predictions = torch.from_numpy(predictions)\n",
    "y_diff = np.clip(100 * ( (predictions - labels) / labels), -50, 50)\n",
    "\n",
    "R2 = r2_score(labels, predictions)\n",
    "\n",
    "print(\"CV R2-Score: \" + str(R2))\n",
    "\n"
   ]
  },
  {
   "cell_type": "code",
   "execution_count": 26,
   "id": "f95b6b44",
   "metadata": {
    "scrolled": true
   },
   "outputs": [
    {
     "name": "stdout",
     "output_type": "stream",
     "text": [
      "MSE: 0.049164422889948614\n",
      "Train loss: 0.049\n"
     ]
    }
   ],
   "source": [
    "MSE = mean_squared_error (labels, predictions)\n",
    "print(\"MSE: \" + str(MSE))\n",
    "print('Train loss: {:.3f}'.format(MSE))"
   ]
  },
  {
   "cell_type": "code",
   "execution_count": 27,
   "id": "447848fd",
   "metadata": {},
   "outputs": [
    {
     "name": "stdout",
     "output_type": "stream",
     "text": [
      "Train utility score: 0.295\n"
     ]
    }
   ],
   "source": [
    "from src.model.optimizer import optimize_utility_threshold, compute_utility_from_indexes\n",
    "#predictions = torch.from_numpy(predictions)\n",
    "tfm_np = lambda x: x.cpu().numpy()\n",
    "predictions = tfm_np(predictions)\n",
    "thresh = optimize_utility_threshold(predictions)\n",
    "train_utility = compute_utility_from_indexes(predictions, thresh)\n",
    "print('Train utility score: {:.3f}'.format(train_utility))"
   ]
  },
  {
   "cell_type": "code",
   "execution_count": 28,
   "id": "38836010",
   "metadata": {},
   "outputs": [
    {
     "data": {
      "image/png": "[encoded data removed]",
      "text/plain": [
       "<Figure size 576x432 with 2 Axes>"
      ]
     },
     "metadata": {
      "needs_background": "light"
     },
     "output_type": "display_data"
    },
    {
     "data": {
      "image/png": "[encoded data removed]",
      "text/plain": [
       "<Figure size 576x432 with 1 Axes>"
      ]
     },
     "metadata": {
      "needs_background": "light"
     },
     "output_type": "display_data"
    }
   ],
   "source": [
    "import matplotlib.pyplot as plt\n",
    "plt.figure(figsize=(8,6))\n",
    "plt.title('True vs Predicted Y')\n",
    "plt.scatter(labels, predictions, c=y_diff, cmap=plt.cm.seismic)\n",
    "plt.colorbar()\n",
    "plt.xlabel('True y')\n",
    "plt.ylabel('Predicted y')\n",
    "plt.show()\n",
    "\n",
    "plt.figure(figsize=(8,6))\n",
    "plt.hist(predictions, 50)\n",
    "plt.xlabel('Predicted y')\n",
    "plt.show()"
   ]
  },
  {
   "cell_type": "code",
   "execution_count": 29,
   "id": "e523d712",
   "metadata": {},
   "outputs": [
    {
     "name": "stdout",
     "output_type": "stream",
     "text": [
      "Requirement already satisfied: bayesian-optimization in c:\\users\\abba\\downloads\\sepsis_competition_physionet_2019-master-20220207t204138z-001\\sepsis_competition_physionet_2019-master\\venv\\lib\\site-packages (1.1.0)\n",
      "Requirement already satisfied: scikit-learn>=0.18.0 in c:\\users\\abba\\downloads\\sepsis_competition_physionet_2019-master-20220207t204138z-001\\sepsis_competition_physionet_2019-master\\venv\\lib\\site-packages (from bayesian-optimization) (0.22.2.post1)\n",
      "Requirement already satisfied: scipy>=0.14.0 in c:\\users\\abba\\downloads\\sepsis_competition_physionet_2019-master-20220207t204138z-001\\sepsis_competition_physionet_2019-master\\venv\\lib\\site-packages (from bayesian-optimization) (1.4.1)\n",
      "Requirement already satisfied: numpy>=1.9.0 in c:\\users\\abba\\downloads\\sepsis_competition_physionet_2019-master-20220207t204138z-001\\sepsis_competition_physionet_2019-master\\venv\\lib\\site-packages (from bayesian-optimization) (1.18.4)\n",
      "Requirement already satisfied: joblib>=0.11 in c:\\users\\abba\\downloads\\sepsis_competition_physionet_2019-master-20220207t204138z-001\\sepsis_competition_physionet_2019-master\\venv\\lib\\site-packages (from scikit-learn>=0.18.0->bayesian-optimization) (0.14.1)\n"
     ]
    }
   ],
   "source": [
    "! pip install bayesian-optimization"
   ]
  },
  {
   "cell_type": "code",
   "execution_count": 30,
   "id": "125a4cba",
   "metadata": {},
   "outputs": [],
   "source": [
    "import pandas as pd\n",
    "import numpy as np\n",
    "import lightgbm as lgb\n",
    "from bayes_opt import BayesianOptimization\n",
    "from sklearn.datasets import load_boston\n",
    "from sklearn.metrics import r2_score\n",
    "\n",
    "import warnings\n",
    "warnings.filterwarnings('ignore')"
   ]
  },
  {
   "cell_type": "code",
   "execution_count": 31,
   "id": "dde7c1cd",
   "metadata": {},
   "outputs": [
    {
     "data": {
      "text/plain": [
       "(tensor([[   84.0000,    97.5000,    37.2800,  ...,        nan,        nan,\n",
       "                 nan],\n",
       "         [   80.0000,    99.0000,    37.2800,  ...,        nan,        nan,\n",
       "                 nan],\n",
       "         [   74.0000,    97.0000,    37.2200,  ...,        nan,        nan,\n",
       "                 nan],\n",
       "         ...,\n",
       "         [   52.0000,    98.0000,    37.3000,  ...,   499.1250,  6030.4897,\n",
       "          -7287.7603],\n",
       "         [   64.0000,    97.0000,    37.3000,  ...,   614.6250,  3858.0508,\n",
       "          -6814.8242],\n",
       "         [   64.0000,    99.0000,    37.3000,  ...,   631.5000, -1220.0840,\n",
       "          -1679.0840]]),\n",
       " tensor([-0.0500, -0.0500, -0.0500,  ..., -0.0500, -0.0500, -0.0500]))"
      ]
     },
     "execution_count": 31,
     "metadata": {},
     "output_type": "execute_result"
    }
   ],
   "source": [
    "X, labels"
   ]
  },
  {
   "cell_type": "code",
   "execution_count": null,
   "id": "14884273",
   "metadata": {},
   "outputs": [
    {
     "name": "stdout",
     "output_type": "stream",
     "text": [
      "|   iter    |  target   | baggin... | featur... | max_depth | min_ch... | min_sp... | num_le... |\n",
      "-------------------------------------------------------------------------------------------------\n",
      "[LightGBM] [Warning] Auto-choosing row-wise multi-threading, the overhead of testing was 0.025607 seconds.\n",
      "You can set `force_row_wise=true` to remove the overhead.\n",
      "And if memory is not enough, you can set `force_col_wise=true`.\n",
      "[LightGBM] [Info] Total Bins 19409\n",
      "[LightGBM] [Info] Number of data points in the train set: 193728, number of used features: 125\n",
      "[LightGBM] [Warning] Auto-choosing row-wise multi-threading, the overhead of testing was 0.021148 seconds.\n",
      "You can set `force_row_wise=true` to remove the overhead.\n",
      "And if memory is not enough, you can set `force_col_wise=true`.\n",
      "[LightGBM] [Info] Total Bins 19409\n",
      "[LightGBM] [Info] Number of data points in the train set: 193728, number of used features: 125\n",
      "[LightGBM] [Warning] Auto-choosing col-wise multi-threading, the overhead of testing was 0.124971 seconds.\n",
      "You can set `force_col_wise=true` to remove the overhead.\n",
      "[LightGBM] [Info] Total Bins 19409\n",
      "[LightGBM] [Info] Number of data points in the train set: 193728, number of used features: 125\n",
      "[LightGBM] [Warning] Auto-choosing row-wise multi-threading, the overhead of testing was 0.024037 seconds.\n",
      "You can set `force_row_wise=true` to remove the overhead.\n",
      "And if memory is not enough, you can set `force_col_wise=true`.\n",
      "[LightGBM] [Info] Total Bins 19409\n",
      "[LightGBM] [Info] Number of data points in the train set: 193728, number of used features: 125\n",
      "[LightGBM] [Warning] Auto-choosing row-wise multi-threading, the overhead of testing was 0.025447 seconds.\n",
      "You can set `force_row_wise=true` to remove the overhead.\n",
      "And if memory is not enough, you can set `force_col_wise=true`.\n",
      "[LightGBM] [Info] Total Bins 19409\n",
      "[LightGBM] [Info] Number of data points in the train set: 193728, number of used features: 125\n",
      "[LightGBM] [Info] Start training from score -0.019141\n",
      "[LightGBM] [Info] Start training from score -0.019241\n",
      "[LightGBM] [Info] Start training from score -0.018791\n",
      "[LightGBM] [Info] Start training from score -0.018965\n",
      "[LightGBM] [Info] Start training from score -0.018944\n",
      "[LightGBM] [Warning] No further splits with positive gain, best gain: -inf\n",
      "[LightGBM] [Warning] No further splits with positive gain, best gain: -inf\n",
      "[LightGBM] [Warning] No further splits with positive gain, best gain: -inf\n",
      "[LightGBM] [Warning] No further splits with positive gain, best gain: -inf\n",
      "[LightGBM] [Warning] No further splits with positive gain, best gain: -inf\n",
      "[LightGBM] [Warning] No further splits with positive gain, best gain: -inf\n",
      "[LightGBM] [Warning] No further splits with positive gain, best gain: -inf\n",
      "[LightGBM] [Warning] No further splits with positive gain, best gain: -inf\n",
      "| \u001B[0m 1       \u001B[0m | \u001B[0m 0.634   \u001B[0m | \u001B[0m 0.9304  \u001B[0m | \u001B[0m 0.6844  \u001B[0m | \u001B[0m 14.93   \u001B[0m | \u001B[0m 17.8    \u001B[0m | \u001B[0m 0.06796 \u001B[0m | \u001B[0m 66.09   \u001B[0m |\n",
      "[LightGBM] [Warning] Auto-choosing row-wise multi-threading, the overhead of testing was 0.028374 seconds.\n",
      "You can set `force_row_wise=true` to remove the overhead.\n",
      "And if memory is not enough, you can set `force_col_wise=true`.\n",
      "[LightGBM] [Info] Total Bins 19409\n",
      "[LightGBM] [Info] Number of data points in the train set: 193728, number of used features: 125\n",
      "[LightGBM] [Warning] Auto-choosing row-wise multi-threading, the overhead of testing was 0.026686 seconds.\n",
      "You can set `force_row_wise=true` to remove the overhead.\n",
      "And if memory is not enough, you can set `force_col_wise=true`.\n",
      "[LightGBM] [Info] Total Bins 19409\n",
      "[LightGBM] [Info] Number of data points in the train set: 193728, number of used features: 125\n",
      "[LightGBM] [Warning] Auto-choosing row-wise multi-threading, the overhead of testing was 0.028369 seconds.\n",
      "You can set `force_row_wise=true` to remove the overhead.\n",
      "And if memory is not enough, you can set `force_col_wise=true`.\n",
      "[LightGBM] [Info] Total Bins 19409\n",
      "[LightGBM] [Info] Number of data points in the train set: 193728, number of used features: 125\n",
      "[LightGBM] [Warning] Auto-choosing row-wise multi-threading, the overhead of testing was 0.028807 seconds.\n",
      "You can set `force_row_wise=true` to remove the overhead.\n",
      "And if memory is not enough, you can set `force_col_wise=true`.\n",
      "[LightGBM] [Info] Total Bins 19409\n",
      "[LightGBM] [Info] Number of data points in the train set: 193728, number of used features: 125\n",
      "[LightGBM] [Warning] Auto-choosing row-wise multi-threading, the overhead of testing was 0.026089 seconds.\n",
      "You can set `force_row_wise=true` to remove the overhead.\n",
      "And if memory is not enough, you can set `force_col_wise=true`.\n",
      "[LightGBM] [Info] Total Bins 19409\n",
      "[LightGBM] [Info] Number of data points in the train set: 193728, number of used features: 125\n",
      "[LightGBM] [Info] Start training from score -0.019141\n",
      "[LightGBM] [Info] Start training from score -0.019241\n",
      "[LightGBM] [Info] Start training from score -0.018791\n",
      "[LightGBM] [Info] Start training from score -0.018965\n",
      "[LightGBM] [Info] Start training from score -0.018944\n",
      "| \u001B[0m 2       \u001B[0m | \u001B[0m 0.5964  \u001B[0m | \u001B[0m 0.9067  \u001B[0m | \u001B[0m 0.8264  \u001B[0m | \u001B[0m 17.43   \u001B[0m | \u001B[0m 13.84   \u001B[0m | \u001B[0m 0.02859 \u001B[0m | \u001B[0m 50.87   \u001B[0m |\n",
      "[LightGBM] [Warning] Auto-choosing row-wise multi-threading, the overhead of testing was 0.032178 seconds.\n",
      "You can set `force_row_wise=true` to remove the overhead.\n",
      "And if memory is not enough, you can set `force_col_wise=true`.\n",
      "[LightGBM] [Info] Total Bins 19409\n",
      "[LightGBM] [Info] Number of data points in the train set: 193728, number of used features: 125\n",
      "[LightGBM] [Warning] Auto-choosing row-wise multi-threading, the overhead of testing was 0.028726 seconds.\n",
      "You can set `force_row_wise=true` to remove the overhead.\n",
      "And if memory is not enough, you can set `force_col_wise=true`.\n",
      "[LightGBM] [Info] Total Bins 19409\n",
      "[LightGBM] [Info] Number of data points in the train set: 193728, number of used features: 125\n",
      "[LightGBM] [Warning] Auto-choosing row-wise multi-threading, the overhead of testing was 0.021956 seconds.\n",
      "You can set `force_row_wise=true` to remove the overhead.\n",
      "And if memory is not enough, you can set `force_col_wise=true`.\n",
      "[LightGBM] [Info] Total Bins 19409\n",
      "[LightGBM] [Info] Number of data points in the train set: 193728, number of used features: 125\n",
      "[LightGBM] [Warning] Auto-choosing row-wise multi-threading, the overhead of testing was 0.032773 seconds.\n",
      "You can set `force_row_wise=true` to remove the overhead.\n",
      "And if memory is not enough, you can set `force_col_wise=true`.\n",
      "[LightGBM] [Info] Total Bins 19409\n",
      "[LightGBM] [Info] Number of data points in the train set: 193728, number of used features: 125\n",
      "[LightGBM] [Warning] Auto-choosing col-wise multi-threading, the overhead of testing was 0.122570 seconds.\n",
      "You can set `force_col_wise=true` to remove the overhead.\n",
      "[LightGBM] [Info] Total Bins 19409\n",
      "[LightGBM] [Info] Number of data points in the train set: 193728, number of used features: 125\n",
      "[LightGBM] [Info] Start training from score -0.019141\n",
      "[LightGBM] [Info] Start training from score -0.019241\n",
      "[LightGBM] [Info] Start training from score -0.018791\n",
      "[LightGBM] [Info] Start training from score -0.018965\n",
      "[LightGBM] [Info] Start training from score -0.018944\n",
      "| \u001B[0m 3       \u001B[0m | \u001B[0m 0.6173  \u001B[0m | \u001B[0m 0.8938  \u001B[0m | \u001B[0m 0.8533  \u001B[0m | \u001B[0m 19.0    \u001B[0m | \u001B[0m 23.03   \u001B[0m | \u001B[0m 0.03538 \u001B[0m | \u001B[0m 60.4    \u001B[0m |\n",
      "[LightGBM] [Warning] Auto-choosing row-wise multi-threading, the overhead of testing was 0.024072 seconds.\n",
      "You can set `force_row_wise=true` to remove the overhead.\n",
      "And if memory is not enough, you can set `force_col_wise=true`.\n",
      "[LightGBM] [Info] Total Bins 19409\n",
      "[LightGBM] [Info] Number of data points in the train set: 193728, number of used features: 125\n",
      "[LightGBM] [Warning] Auto-choosing row-wise multi-threading, the overhead of testing was 0.024707 seconds.\n",
      "You can set `force_row_wise=true` to remove the overhead.\n",
      "And if memory is not enough, you can set `force_col_wise=true`.\n",
      "[LightGBM] [Info] Total Bins 19409\n",
      "[LightGBM] [Info] Number of data points in the train set: 193728, number of used features: 125\n",
      "[LightGBM] [Warning] Auto-choosing row-wise multi-threading, the overhead of testing was 0.029475 seconds.\n",
      "You can set `force_row_wise=true` to remove the overhead.\n",
      "And if memory is not enough, you can set `force_col_wise=true`.\n",
      "[LightGBM] [Info] Total Bins 19409\n",
      "[LightGBM] [Info] Number of data points in the train set: 193728, number of used features: 125\n"
     ]
    },
    {
     "name": "stdout",
     "output_type": "stream",
     "text": [
      "[LightGBM] [Warning] Auto-choosing row-wise multi-threading, the overhead of testing was 0.022450 seconds.\n",
      "You can set `force_row_wise=true` to remove the overhead.\n",
      "And if memory is not enough, you can set `force_col_wise=true`.\n",
      "[LightGBM] [Info] Total Bins 19409\n",
      "[LightGBM] [Info] Number of data points in the train set: 193728, number of used features: 125\n",
      "[LightGBM] [Warning] Auto-choosing row-wise multi-threading, the overhead of testing was 0.025508 seconds.\n",
      "You can set `force_row_wise=true` to remove the overhead.\n",
      "And if memory is not enough, you can set `force_col_wise=true`.\n",
      "[LightGBM] [Info] Total Bins 19409\n",
      "[LightGBM] [Info] Number of data points in the train set: 193728, number of used features: 125\n",
      "[LightGBM] [Info] Start training from score -0.019141\n",
      "[LightGBM] [Info] Start training from score -0.019241\n",
      "[LightGBM] [Info] Start training from score -0.018791\n",
      "[LightGBM] [Info] Start training from score -0.018965\n",
      "[LightGBM] [Info] Start training from score -0.018944\n",
      "[LightGBM] [Warning] No further splits with positive gain, best gain: -inf\n",
      "[LightGBM] [Warning] No further splits with positive gain, best gain: -inf\n",
      "[LightGBM] [Warning] No further splits with positive gain, best gain: -inf\n",
      "[LightGBM] [Warning] No further splits with positive gain, best gain: -inf\n",
      "[LightGBM] [Warning] No further splits with positive gain, best gain: -inf\n",
      "[LightGBM] [Warning] No further splits with positive gain, best gain: -inf\n",
      "| \u001B[0m 4       \u001B[0m | \u001B[0m 0.5799  \u001B[0m | \u001B[0m 0.8164  \u001B[0m | \u001B[0m 0.5826  \u001B[0m | \u001B[0m 13.68   \u001B[0m | \u001B[0m 16.29   \u001B[0m | \u001B[0m 0.05168 \u001B[0m | \u001B[0m 52.17   \u001B[0m |\n",
      "[LightGBM] [Warning] Auto-choosing row-wise multi-threading, the overhead of testing was 0.021640 seconds.\n",
      "You can set `force_row_wise=true` to remove the overhead.\n",
      "And if memory is not enough, you can set `force_col_wise=true`.\n",
      "[LightGBM] [Info] Total Bins 19409\n",
      "[LightGBM] [Info] Number of data points in the train set: 193728, number of used features: 125\n",
      "[LightGBM] [Warning] Auto-choosing row-wise multi-threading, the overhead of testing was 0.032334 seconds.\n",
      "You can set `force_row_wise=true` to remove the overhead.\n",
      "And if memory is not enough, you can set `force_col_wise=true`.\n",
      "[LightGBM] [Info] Total Bins 19409\n",
      "[LightGBM] [Info] Number of data points in the train set: 193728, number of used features: 125\n",
      "[LightGBM] [Warning] Auto-choosing row-wise multi-threading, the overhead of testing was 0.023826 seconds.\n",
      "You can set `force_row_wise=true` to remove the overhead.\n",
      "And if memory is not enough, you can set `force_col_wise=true`.\n",
      "[LightGBM] [Info] Total Bins 19409\n",
      "[LightGBM] [Info] Number of data points in the train set: 193728, number of used features: 125\n",
      "[LightGBM] [Warning] Auto-choosing row-wise multi-threading, the overhead of testing was 0.023656 seconds.\n",
      "You can set `force_row_wise=true` to remove the overhead.\n",
      "And if memory is not enough, you can set `force_col_wise=true`.\n",
      "[LightGBM] [Info] Total Bins 19409\n",
      "[LightGBM] [Info] Number of data points in the train set: 193728, number of used features: 125\n",
      "[LightGBM] [Warning] Auto-choosing row-wise multi-threading, the overhead of testing was 0.019842 seconds.\n",
      "You can set `force_row_wise=true` to remove the overhead.\n",
      "And if memory is not enough, you can set `force_col_wise=true`.\n",
      "[LightGBM] [Info] Total Bins 19409\n",
      "[LightGBM] [Info] Number of data points in the train set: 193728, number of used features: 125\n",
      "[LightGBM] [Info] Start training from score -0.019141\n",
      "[LightGBM] [Info] Start training from score -0.019241\n",
      "[LightGBM] [Info] Start training from score -0.018791\n",
      "[LightGBM] [Info] Start training from score -0.018965\n",
      "[LightGBM] [Info] Start training from score -0.018944\n",
      "[LightGBM] [Warning] No further splits with positive gain, best gain: -inf\n"
     ]
    }
   ],
   "source": [
    "def bayesion_opt_lgbm(X=X, y=labels, init_iter=3, n_iters=7, random_state=11, seed = 101, num_iterations = 200):\n",
    "  dtrain = lgb.Dataset(data=X, label=y)\n",
    "  def lgb_r2_score(preds, dtrain):\n",
    "      labels = dtrain.get_label()\n",
    "      return 'r2', r2_score(labels, preds), True\n",
    "  # Objective Function\n",
    "  def hyp_lgbm(num_leaves, feature_fraction, bagging_fraction, max_depth, min_split_gain, min_child_weight):\n",
    "        \n",
    "          params = {'application':'regression','num_iterations': num_iterations,\n",
    "                    'learning_rate':0.01, 'early_stopping_round':50,\n",
    "                    'metric':'lgb_r2_score'} # Default parameters\n",
    "          params[\"num_leaves\"] = int(round(num_leaves))\n",
    "          params['feature_fraction'] = max(min(feature_fraction, 1), 0)\n",
    "          params['bagging_fraction'] = max(min(bagging_fraction, 1), 0)\n",
    "          params['max_depth'] = int(round(max_depth))\n",
    "          params['min_split_gain'] = min_split_gain\n",
    "          params['min_child_weight'] = min_child_weight\n",
    "          cv_results = lgb.cv(params, dtrain, nfold=5, seed=seed,categorical_feature=[], stratified=False,\n",
    "                              verbose_eval =None, feval=lgb_r2_score)\n",
    "          # print(cv_results)\n",
    "          return np.max(cv_results['r2-mean'])\n",
    "  # Domain space-- Range of hyperparameters \n",
    "  pds = {'num_leaves': (50, 70),\n",
    "            'feature_fraction': (0.1, 0.9),\n",
    "            'bagging_fraction': (0.8, 1),\n",
    "            'max_depth': (13, 23),\n",
    "            'min_split_gain': (0.001, 0.1),\n",
    "            'min_child_weight': (10, 25)\n",
    "            }\n",
    "\n",
    "  # Surrogate model\n",
    "  optimizer = BayesianOptimization(hyp_lgbm, pds, random_state=random_state)\n",
    "                                    \n",
    "  # Optimize\n",
    "  optimizer.maximize(init_points=init_iter, n_iter=n_iters)\n",
    "\n",
    "optimizer = bayesion_opt_lgbm(X=X.numpy(), y=labels.numpy(), init_iter=5, n_iters=15, random_state=717, seed = 1011, num_iterations = 300)"
   ]
  },
  {
   "cell_type": "code",
   "execution_count": null,
   "id": "38c2a116",
   "metadata": {},
   "outputs": [],
   "source": [
    "optimizer.max['params']"
   ]
  },
  {
   "cell_type": "code",
   "execution_count": null,
   "id": "def5b727",
   "metadata": {},
   "outputs": [],
   "source": []
  }
 ],
 "metadata": {
  "kernelspec": {
   "display_name": "Python 3 (ipykernel)",
   "language": "python",
   "name": "python3"
  },
  "language_info": {
   "codemirror_mode": {
    "name": "ipython",
    "version": 3
   },
   "file_extension": ".py",
   "mimetype": "text/x-python",
   "name": "python",
   "nbconvert_exporter": "python",
   "pygments_lexer": "ipython3",
   "version": "3.7.0"
  }
 },
 "nbformat": 4,
 "nbformat_minor": 5
}